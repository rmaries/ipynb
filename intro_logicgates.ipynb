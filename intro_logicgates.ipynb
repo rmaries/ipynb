{
 "metadata": {
  "name": ""
 },
 "nbformat": 3,
 "nbformat_minor": 0,
 "worksheets": [
  {
   "cells": [
    {
     "cell_type": "heading",
     "level": 1,
     "metadata": {},
     "source": [
      "                                        Learning class using logic gates"
     ]
    },
    {
     "cell_type": "markdown",
     "metadata": {},
     "source": [
      "[Circuit]: http://interactivepython.org/courselib/static/pythonds/_images/circuit1.png  \"Optional title attribute\""
     ]
    },
    {
     "cell_type": "markdown",
     "metadata": {},
     "source": [
      "![Figure 1-1](http://interactivepython.org/courselib/static/pythonds/_images/circuit1.png \"Figure 1-1\")"
     ]
    },
    {
     "cell_type": "markdown",
     "metadata": {},
     "source": [
      "![Figure 1-2](http://interactivepython.org/courselib/static/pythonds/_images/gates.png \"Figure 1-2\")"
     ]
    },
    {
     "cell_type": "code",
     "collapsed": false,
     "input": [
      "class LogicGate:\n",
      "    \n",
      "    def __init__(self,n):\n",
      "        self.label = n\n",
      "        self.output = None\n",
      "    \n",
      "    def getLabel(self):\n",
      "        return self.label\n",
      "    \n",
      "    def getOutput(self):\n",
      "        self.output = self.performGateLogic()\n",
      "        return self.output\n",
      "\n",
      "Class BinaryGate(LogicGate):\n",
      "    \n",
      "    def __init__(self,n):\n",
      "        LogicGate.__init__(self,n)\n",
      "        \n",
      "        self.pinA = None\n",
      "        self.pinB = None\n",
      "    "
     ],
     "language": "python",
     "metadata": {},
     "outputs": []
    }
   ],
   "metadata": {}
  }
 ]
}