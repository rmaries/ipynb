{
  "nbformat": 4,
  "nbformat_minor": 0,
  "metadata": {
    "colab": {
      "name": "dice.ipynb",
      "version": "0.3.2",
      "provenance": [],
      "include_colab_link": true
    },
    "kernelspec": {
      "name": "python3",
      "display_name": "Python 3",
      "language": "python"
    }
  },
  "cells": [
    {
      "cell_type": "markdown",
      "metadata": {
        "id": "view-in-github",
        "colab_type": "text"
      },
      "source": [
        "<a href=\"https://colab.research.google.com/github/rmaries/ipynb/blob/master/dice.ipynb\" target=\"_parent\"><img src=\"https://colab.research.google.com/assets/colab-badge.svg\" alt=\"Open In Colab\"/></a>"
      ]
    },
    {
      "metadata": {
        "trusted": true,
        "id": "HW9V1ES-xGRA",
        "colab_type": "code",
        "colab": {}
      },
      "cell_type": "code",
      "source": [
        "import numpy as np\n",
        "import pprint\n",
        "#import pandas as pd\n",
        "def dice(n):\n",
        "    outcome = np.random.choice(np.arange(1,7), n)\n",
        "    return outcome"
      ],
      "execution_count": 0,
      "outputs": []
    },
    {
      "metadata": {
        "trusted": true,
        "id": "J1cNXw4-xGRI",
        "colab_type": "code",
        "colab": {}
      },
      "cell_type": "code",
      "source": [
        "%matplotlib inline"
      ],
      "execution_count": 0,
      "outputs": []
    },
    {
      "metadata": {
        "trusted": true,
        "id": "-Ey_3d8ZxGRO",
        "colab_type": "code",
        "colab": {}
      },
      "cell_type": "code",
      "source": [
        "import matplotlib.pyplot as plt\n",
        "#plt.suptitle(\"30 Throws\")\n",
        "def dice_draw(n):\n",
        "    f = plt.figure(1, figsize=(15,10))\n",
        "    count = 1\n",
        "    for i in range(1,3):\n",
        "        for j in range(1,3):\n",
        "            plt.subplot(2,2,count)\n",
        "            x, height = np.unique(dice(n),return_counts=True)\n",
        "            plt.bar(x, height)\n",
        "            plt.ylabel(\"No of times\")\n",
        "            plt.xlabel(\"Throw\")\n",
        "            count += 1\n",
        "    #f.savefig(\"30t.pdf\", bbox_inches='tight')"
      ],
      "execution_count": 0,
      "outputs": []
    },
    {
      "metadata": {
        "trusted": true,
        "id": "n05MLg3kxGRU",
        "colab_type": "code",
        "outputId": "de8637e9-9578-4313-e82b-a52f60ebcd85",
        "colab": {
          "base_uri": "https://localhost:8080/",
          "height": 606
        }
      },
      "cell_type": "code",
      "source": [
        "dice_draw(3000)"
      ],
      "execution_count": 0,
      "outputs": [
        {
          "output_type": "display_data",
          "data": {
            "image/png": "[encoded data removed]",
            "text/plain": [
              "<matplotlib.figure.Figure at 0x7ff3486ed978>"
            ]
          },
          "metadata": {
            "tags": []
          }
        }
      ]
    }
  ]
}