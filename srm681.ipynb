{
 "metadata": {
  "name": "",
  "signature": "sha256:b8dcd14e9356b355a5ac0218b003a9f7141d2a43d8a5aaf58bd994fb6d103ad2"
 },
 "nbformat": 3,
 "nbformat_minor": 0,
 "worksheets": [
  {
   "cells": [
    {
     "cell_type": "code",
     "collapsed": false,
     "input": [
      "\n",
      "Problem Statement\n",
      "\u00a0\u00a0\u00a0\u00a0\n",
      "You have n coins, labeled 0 through n-1. Each of the coins shows either heads or tails. You are given the states of all coins in the string state with n characters. For each i, state[i] is 'H' if coin i shows heads, or 'T' if it shows tails.\n",
      "The coins are laid out in a row, ordered from coin 0 to coin n-1. A coin is called interesting if it differs from at least one of its neighbors. (For example, a coin that shows heads is interesting if at least one of its neighbors shows tails.) Return the number of interesting coins.\n",
      "Definition\n",
      "\u00a0\u00a0\u00a0\u00a0\n",
      "Class:\n",
      "CoinFlipsDiv2\n",
      "Method:\n",
      "countCoins\n",
      "Parameters:\n",
      "string\n",
      "Returns:\n",
      "integer\n",
      "Method signature:\n",
      "def countCoins(self, state):\n",
      "\n",
      "Limits\n",
      "\u00a0\u00a0\u00a0\u00a0\n",
      "Time limit (s):\n",
      "2.000\n",
      "Memory limit (MB):\n",
      "256\n",
      "Stack limit (MB):\n",
      "256\n",
      "Notes\n",
      "-\n",
      "The value of n is not given explicitly. Instead, you can determine it as the number of characters in state.\n",
      "Constraints\n",
      "-\n",
      "state will have between 1 and 50 elements, inclusive.\n",
      "-\n",
      "Each character of state will be either 'H' or 'T'.\n",
      "Examples\n",
      "0)\n",
      "\n",
      "\u00a0\u00a0\u00a0\u00a0\n",
      "\"HT\"\n",
      "Returns: 2\n",
      "Coin 0 is interesting because it shows heads and its only neighbor shows tails. Similarly, coin 1 is interesting because it shows tails and its only neighbor shows heads. Thus, the answer is 2.\n",
      "1)\n",
      "\n",
      "\u00a0\u00a0\u00a0\u00a0\n",
      "\"T\"\n",
      "Returns: 0\n",
      "In this test case there is a single coin. It has no neighbors, and therefore it has no different neighbors. This means that the coin is not interesting.\n",
      "2)\n",
      "\n",
      "\u00a0\u00a0\u00a0\u00a0\n",
      "\"HHH\"\n",
      "Returns: 0\n",
      "None of these coins are interesting, because each of them is only adjacent to coins that show the same side.\n",
      "3)\n",
      "\n",
      "\u00a0\u00a0\u00a0\u00a0\n",
      "\"HHTHHH\"\n",
      "Returns: 3\n",
      "Here, the three interesting coins are coins 1, 2, and 3. (Remember that the indices are 0-based.)\n",
      "4)\n",
      "\n",
      "\u00a0\u00a0\u00a0\u00a0\n",
      "\"HHHTTTHHHTTTHTHTH\"\n",
      "Returns: 12\n",
      "\n",
      "This problem statement is the exclusive and proprietary property of TopCoder, Inc. Any unauthorized use or reproduction of this information without the prior written consent of TopCoder, Inc. is strictly prohibited. (c)2003, TopCoder, Inc. All rights reserved."
     ],
     "language": "python",
     "metadata": {},
     "outputs": []
    },
    {
     "cell_type": "code",
     "collapsed": false,
     "input": [
      "class CoinFlipsDiv2:\n",
      "    def countCoins(self, state):\n",
      "        count = 0\n",
      "        if len(state) == 1:\n",
      "            return 0\n",
      "        else:\n",
      "            for i,s in enumerate(state):\n",
      "                if i == 0:\n",
      "                    if state[i] != state[i+1]:\n",
      "                        count += 1\n",
      "                elif i == (len(state)-1):\n",
      "                    if state[i] != state[i-1]:\n",
      "                        count += 1\n",
      "                elif state[i] != state[i-1] or state[i] != state[i+1]:\n",
      "                    count += 1                    \n",
      "        return count"
     ],
     "language": "python",
     "metadata": {},
     "outputs": [],
     "prompt_number": 26
    },
    {
     "cell_type": "code",
     "collapsed": false,
     "input": [
      "s = \"HTTTT\"\n",
      "for index,s in enumerate(s):\n",
      "    print i, num"
     ],
     "language": "python",
     "metadata": {},
     "outputs": [
      {
       "output_type": "stream",
       "stream": "stdout",
       "text": [
        "0 H\n",
        "1 T\n",
        "2 T\n",
        "3 T\n",
        "4 T\n"
       ]
      }
     ],
     "prompt_number": 25
    },
    {
     "cell_type": "code",
     "collapsed": false,
     "input": [
      "s = CoinFlipsDiv2()\n",
      "print s.countCoins(\"HHT\")"
     ],
     "language": "python",
     "metadata": {},
     "outputs": [
      {
       "output_type": "stream",
       "stream": "stdout",
       "text": [
        "2\n"
       ]
      }
     ],
     "prompt_number": 27
    }
   ],
   "metadata": {}
  }
 ]
}