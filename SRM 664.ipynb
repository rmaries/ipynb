{
 "cells": [
  {
   "cell_type": "raw",
   "metadata": {},
   "source": [
    "Limak is an old brown bear. Because of his bad eyesight he sometimes has to visit his doctor, Dr. Carrot. Today is one such day.\n",
    " \n",
    "Dr. Carrot has a blackboard in his office. There is a number A written on the blackboard. In order to examine Limak's eyesight, Dr. Carrot asked him to read the number. Limak couldn't see the number really well. He could determine the number of digits correctly, but he was not sure what the individual digits are. Finally, he decided to announce the number B to the doctor. The doctor then left the office for a short while.\n",
    " \n",
    "Limak really doesn't want to wear glasses, so he has decided to cheat. As soon as the doctor left the room, Limak went to the blackboard to read the correct number A. Before the doctor returns, Limak has the time to change one of the digits of A to any different digit. (Note that he may not add any new digits to A and he may not completely erase any digits of A. He may only change at most one of the digits.) Limak hopes that he can deceive the doctor by changing the number A into his number B.\n",
    " \n",
    "You are given the integers A and B. Return the string \"happy\" (quotes for clarity) if Limak can convince the doctor that his eyesight is good. Otherwise, return the string \"glasses\".\n",
    "Definition\n",
    "    \n",
    "Class:\n",
    "BearCheats\n",
    "Method:\n",
    "eyesight\n",
    "Parameters:\n",
    "integer, integer\n",
    "Returns:\n",
    "string\n",
    "Method signature:\n",
    "def eyesight(self, A, B):\n",
    "\n",
    "Limits\n",
    "    \n",
    "Time limit (s):\n",
    "2.000\n",
    "Memory limit (MB):\n",
    "256\n",
    "Stack limit (MB):\n",
    "256\n",
    "Constraints\n",
    "-\n",
    "A and B will be between 1 and 999,999, inclusive.\n",
    "-\n",
    "A and B will have the same number of digits.\n",
    "Examples\n",
    "0)\n",
    "\n",
    "    \n",
    "8072\n",
    "3072\n",
    "Returns: \"happy\"\n",
    "Limak wants to change 8072 into 3072. He can do that by changing the digit 8 to a 3.\n",
    "1)\n",
    "\n",
    "    \n",
    "508\n",
    "540\n",
    "Returns: \"glasses\"\n",
    "Limak would need to change two digits, but he only has the time to change at most one.\n",
    "2)\n",
    "\n",
    "    \n",
    "854000\n",
    "854000\n",
    "Returns: \"happy\"\n",
    "It is possible that Limak read the number correctly. If that happens, he will not change any digits.\n",
    "3)\n",
    "\n",
    "    \n",
    "1\n",
    "6\n",
    "Returns: \"happy\"\n",
    "\n",
    "4)\n",
    "\n",
    "    \n",
    "385900\n",
    "123000\n",
    "Returns: \"glasses\"\n",
    "\n",
    "This problem statement is the exclusive and proprietary property of TopCoder, Inc. Any unauthorized use or reproduction of this information without the prior written consent of TopCoder, Inc. is str"
   ]
  },
  {
   "cell_type": "code",
   "execution_count": 2,
   "metadata": {
    "collapsed": true
   },
   "outputs": [],
   "source": [
    "class BearCheats:\n",
    "    def eyesight(self, a, b):\n",
    "        stra = str(a)\n",
    "        strb = str(b)\n",
    "        i = 0\n",
    "        for digit in stra:\n",
    "            if digit in strb:\n",
    "                i += 1\n",
    "        if i == 1 or i+1 == len(strb):\n",
    "            return \"happy\"\n",
    "        else:\n",
    "            return \"glasses\""
   ]
  },
  {
   "cell_type": "code",
   "execution_count": 4,
   "metadata": {
    "collapsed": false
   },
   "outputs": [
    {
     "name": "stdout",
     "output_type": "stream",
     "text": [
      "(5, 6)\n"
     ]
    }
   ],
   "source": [
    "s = BearCheats()\n",
    "print s.eyesignt(385900, 123000)\n",
    "print"
   ]
  },
  {
   "cell_type": "code",
   "execution_count": 6,
   "metadata": {
    "collapsed": false
   },
   "outputs": [],
   "source": [
    "class BearPlaysDiv2:\n",
    "    def equalPiles(self, a, b, c):\n",
    "        if ((a+b+c)%3) == 0:\n",
    "            return \"possible\"\n",
    "        else:\n",
    "            return \"impossible\""
   ]
  },
  {
   "cell_type": "code",
   "execution_count": 11,
   "metadata": {
    "collapsed": false
   },
   "outputs": [
    {
     "name": "stdout",
     "output_type": "stream",
     "text": [
      "1.03397576569e-25\n"
     ]
    }
   ],
   "source": [
    "import math\n",
    "print math.exp(-57.53121598647546)"
   ]
  },
  {
   "cell_type": "code",
   "execution_count": 12,
   "metadata": {
    "collapsed": false
   },
   "outputs": [
    {
     "name": "stdout",
     "output_type": "stream",
     "text": [
      "2.98023223877e-08\n"
     ]
    }
   ],
   "source": [
    "print 0.5**25"
   ]
  }
 ],
 "metadata": {
  "kernelspec": {
   "display_name": "Python 2",
   "language": "python",
   "name": "python2"
  },
  "language_info": {
   "codemirror_mode": {
    "name": "ipython",
    "version": 2
   },
   "file_extension": ".py",
   "mimetype": "text/x-python",
   "name": "python",
   "nbconvert_exporter": "python",
   "pygments_lexer": "ipython2",
   "version": "2.7.9"
  }
 },
 "nbformat": 4,
 "nbformat_minor": 0
}
