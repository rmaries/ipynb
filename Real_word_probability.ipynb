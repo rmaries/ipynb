{
 "cells": [
  {
   "cell_type": "code",
   "execution_count": 1,
   "metadata": {
    "collapsed": true
   },
   "outputs": [],
   "source": [
    "%matplotlib inline"
   ]
  },
  {
   "cell_type": "markdown",
   "metadata": {},
   "source": [
    "Below code is taken from \n",
    "https://courses.edx.org/courses/course-v1:MITx+6.008.1x+3T2016/course/\n"
   ]
  },
  {
   "cell_type": "code",
   "execution_count": 192,
   "metadata": {},
   "outputs": [],
   "source": [
    "import numpy as np\n",
    "import matplotlib.pyplot as plt\n",
    "import pandas as pd\n",
    "\n",
    "\n",
    "def sample_from_finite_probability_space(finite_prob_space):\n",
    "    \"\"\"\n",
    "    Produces a random outcome from a given finite probability space.\n",
    "\n",
    "    Input\n",
    "    -----\n",
    "    - finite_prob_space: finite probability space encoded as a\n",
    "      dictionary\n",
    "\n",
    "    Output\n",
    "    ------\n",
    "    - random outcome, which is one of the keys in the\n",
    "      finite_probability_space dictionary's set of keys\n",
    "      (remember: these keys form the sample space)\n",
    "    \"\"\"\n",
    "\n",
    "    # first produce a list of pairs of the form (outcome, outcome probability)\n",
    "    outcome_probability_pairs = list(finite_prob_space.items())\n",
    "\n",
    "    # convert the pairs into two lists \"outcomes\" and \"outcome_probabilities\":\n",
    "    # - outcomes: list of outcomes\n",
    "    # - outcome_probabilities: i-th element is the probability of the i-th\n",
    "    #   outcome in the \"outcomes\" list\n",
    "    # (note that this step is needed because NumPy wants these lists\n",
    "    # separately)\n",
    "    outcomes, outcome_probabilities = zip(*outcome_probability_pairs)\n",
    "\n",
    "    # use NumPy to randomly sample\n",
    "    random_outcome = np.random.choice(outcomes, p=outcome_probabilities)\n",
    "    return random_outcome\n",
    "\n",
    "\n",
    "def flip_fair_coin():\n",
    "    \"\"\"\n",
    "    Returns a fair coin flip.\n",
    "\n",
    "    Output\n",
    "    ------\n",
    "    - either the string 'heads' or 'tails'\n",
    "    \"\"\"\n",
    "    finite_prob_space = {'heads': 0.5, 'tails': 0.5}\n",
    "    return sample_from_finite_probability_space(finite_prob_space)\n",
    "\n",
    "\n",
    "def flip_fair_coins(number_of_coins):\n",
    "    \"\"\"\n",
    "    Returns a list of fair coin flip results.\n",
    "\n",
    "    Input\n",
    "    -----\n",
    "    - number_of_coins: number of coin flips\n",
    "\n",
    "    Output\n",
    "    ------\n",
    "    - list of length <number_of_coins> consisting of strings 'heads'/'tails'\n",
    "    \"\"\"\n",
    "    finite_prob_space = {'heads': 0.5, 'tails': 0.5}\n",
    "    return [sample_from_finite_probability_space(finite_prob_space)\n",
    "            for i in range(number_of_coins)]\n",
    "\n",
    "\n",
    "def plot_discrete_histogram(array, frequency=False, figsize=(5, 4)):\n",
    "    \"\"\"\n",
    "    Plots a discrete histogram given a 1D array of values.\n",
    "\n",
    "    Input\n",
    "    -----\n",
    "    - array: 1D array consisting of data\n",
    "    - frequency: boolean (True => plot frequencies, False => plot counts)\n",
    "    - figsize: tuple (width, height) of how large to make the plotted figure\n",
    "    \"\"\"\n",
    "    array_as_series = pd.Series(array)\n",
    "\n",
    "    counts = array_as_series.value_counts().sort_index()  \n",
    "    print(type(counts))\n",
    "    print(counts)\n",
    "    print(type(s))\n",
    "    if frequency:\n",
    "        counts /= counts.sum()\n",
    "\n",
    "    plt.figure(figsize=figsize)\n",
    "\n",
    "    plt.xlabel('Value')\n",
    "    if frequency:\n",
    "        plt.ylabel('Frequency')\n",
    "    else:\n",
    "        plt.ylabel('Count')\n",
    "\n",
    "    axis = counts.plot(kind='bar')\n",
    "    figure = axis.get_figure()\n",
    "    figure.autofmt_xdate()  # rotates x-axis labels to be more readable\n",
    "    plt.tight_layout()  # tidy up and remove some margins\n",
    "\n",
    "def scatter_plot(no_of_bets, x_return, no_of_runs):\n",
    "    winning_value = []\n",
    "    plt.axis([-1, no_of_runs, -10, 50])\n",
    "    for i in range(no_of_runs):\n",
    "        s = pd.Series(flip_fair_coins(no_of_bets))\n",
    "        #print(s.value_counts()['heads'])\n",
    "        win_lose = s.value_counts()['heads']*x_return-s.value_counts()['tails']\n",
    "        #print(win_lose)\n",
    "        winning_value.append(win_lose)\n",
    "    plt.scatter(range(len(winning_value)),winning_value)\n",
    "    #print(winning_value)"
   ]
  },
  {
   "cell_type": "code",
   "execution_count": 193,
   "metadata": {},
   "outputs": [
    {
     "data": {
      "image/png": "[encoded data removed]",
      "text/plain": [
       "<matplotlib.figure.Figure at 0x7f8093c15940>"
      ]
     },
     "metadata": {},
     "output_type": "display_data"
    }
   ],
   "source": [
    "scatter_plot(10,2,100)"
   ]
  }
 ],
 "metadata": {
  "kernelspec": {
   "display_name": "Python 3",
   "language": "python",
   "name": "python3"
  },
  "language_info": {
   "codemirror_mode": {
    "name": "ipython",
    "version": 3
   },
   "file_extension": ".py",
   "mimetype": "text/x-python",
   "name": "python",
   "nbconvert_exporter": "python",
   "pygments_lexer": "ipython3",
   "version": "3.6.2"
  }
 },
 "nbformat": 4,
 "nbformat_minor": 2
}
