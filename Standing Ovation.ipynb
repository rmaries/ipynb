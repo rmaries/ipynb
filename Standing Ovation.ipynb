{
 "cells": [
  {
   "cell_type": "code",
   "execution_count": null,
   "metadata": {
    "collapsed": false
   },
   "outputs": [],
   "source": [
    "def friends_req(smax, s_i):\n",
    "    min_friends = 0\n",
    "    n = 0\n",
    "    aud_list = [int(i) for i in s_i]\n",
    "    for i in range(int(smax)+1):\n",
    "        print i, n, min_friends, aud_list[i]\n",
    "        if min_friends < i and n < i:\n",
    "            min_friends = i - n\n",
    "        n += aud_list[i]        \n",
    "    return min_friends\n",
    "input_file = open(\"input.in\", \"r\")\n",
    "n = int(input_file.readline())\n",
    "for line in range(n):\n",
    "    inp_list = (input_file.readline()).split()\n",
    "    no_of_friends = friends_req(inp_list[0], inp_list[1])\n",
    "    #print inp_list\n",
    "    print \"Case #\"+str(line+1)+\": \"+str(no_of_friends)"
   ]
  },
  {
   "cell_type": "code",
   "execution_count": 148,
   "metadata": {
    "collapsed": false
   },
   "outputs": [
    {
     "name": "stdout",
     "output_type": "stream",
     "text": [
      "0 0 0 2\n",
      "1 2 0 0\n",
      "2 2 0 0\n",
      "3 2 0 1\n",
      "4 3 1 2\n",
      "5 5 1 2\n",
      "6 7 1 1\n"
     ]
    },
    {
     "data": {
      "text/plain": [
       "1"
      ]
     },
     "execution_count": 148,
     "metadata": {},
     "output_type": "execute_result"
    }
   ],
   "source": [
    "friends_req(\"6\", \"2001221\")"
   ]
  }
 ],
 "metadata": {
  "kernelspec": {
   "display_name": "Python 2",
   "language": "python",
   "name": "python2"
  },
  "language_info": {
   "codemirror_mode": {
    "name": "ipython",
    "version": 2
   },
   "file_extension": ".py",
   "mimetype": "text/x-python",
   "name": "python",
   "nbconvert_exporter": "python",
   "pygments_lexer": "ipython2",
   "version": "2.7.8"
  }
 },
 "nbformat": 4,
 "nbformat_minor": 0
}
