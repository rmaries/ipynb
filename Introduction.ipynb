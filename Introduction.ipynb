{
 "metadata": {
  "name": "Introduction"
 },
 "nbformat": 3,
 "nbformat_minor": 0,
 "worksheets": [
  {
   "cells": [
    {
     "cell_type": "raw",
     "metadata": {},
     "source": [
      "                            Problem solving through Algorithms and Data Structures in Ipython"
     ]
    },
    {
     "cell_type": "code",
     "collapsed": false,
     "input": [
      "import math"
     ],
     "language": "python",
     "metadata": {},
     "outputs": [],
     "prompt_number": 2
    },
    {
     "cell_type": "code",
     "collapsed": false,
     "input": [
      "math.pi"
     ],
     "language": "python",
     "metadata": {},
     "outputs": [
      {
       "output_type": "pyout",
       "prompt_number": 3,
       "text": [
        "3.141592653589793"
       ]
      }
     ],
     "prompt_number": 3
    },
    {
     "cell_type": "code",
     "collapsed": false,
     "input": [
      "myfraction = Fraction(3,5)"
     ],
     "language": "python",
     "metadata": {},
     "outputs": [],
     "prompt_number": 6
    },
    {
     "cell_type": "code",
     "collapsed": false,
     "input": [
      "myfraction.show()"
     ],
     "language": "python",
     "metadata": {},
     "outputs": [
      {
       "ename": "AttributeError",
       "evalue": "Fraction instance has no attribute 'show'",
       "output_type": "pyerr",
       "traceback": [
        "\u001b[0;31m---------------------------------------------------------------------------\u001b[0m\n\u001b[0;31mAttributeError\u001b[0m                            Traceback (most recent call last)",
        "\u001b[0;32m<ipython-input-13-469a33f30a45>\u001b[0m in \u001b[0;36m<module>\u001b[0;34m()\u001b[0m\n\u001b[0;32m----> 1\u001b[0;31m \u001b[0mmyfraction\u001b[0m\u001b[0;34m.\u001b[0m\u001b[0mshow\u001b[0m\u001b[0;34m(\u001b[0m\u001b[0;34m)\u001b[0m\u001b[0;34m\u001b[0m\u001b[0m\n\u001b[0m",
        "\u001b[0;31mAttributeError\u001b[0m: Fraction instance has no attribute 'show'"
       ]
      }
     ],
     "prompt_number": 13
    },
    {
     "cell_type": "code",
     "collapsed": false,
     "input": [
      "print myfraction"
     ],
     "language": "python",
     "metadata": {},
     "outputs": [
      {
       "output_type": "stream",
       "stream": "stdout",
       "text": [
        "<__main__.Fraction instance at 0x252d5f0>\n"
       ]
      }
     ],
     "prompt_number": 12
    },
    {
     "cell_type": "code",
     "collapsed": false,
     "input": [
      "def gcd(m,n):\n",
      "        while m%n != 0:\n",
      "            oldm = m\n",
      "            oldn = n\n",
      "            \n",
      "            m = oldn\n",
      "            n = oldm%oldn\n",
      "        return n\n",
      "class Fraction:\n",
      "    def __init__(self,top,bottom):\n",
      "        self.num = top\n",
      "        self.den = bottom\n",
      "    def show(self):\n",
      "        print(self.num,\"/\",self.den)\n",
      "    def __str__(self):\n",
      "        return str(self.num)+\"/\"+str(self.den)\n",
      "    def __add__(self,other):\n",
      "        new_num = self.num * other.den + self.den * other.num\n",
      "        new_den = self.den * other.den\n",
      "        common = gcd(new_num,new_den)\n",
      "        return Fraction(new_num//common,new_den//common)\n",
      "        \n",
      "    "
     ],
     "language": "python",
     "metadata": {},
     "outputs": [],
     "prompt_number": 31
    },
    {
     "cell_type": "code",
     "collapsed": false,
     "input": [
      "x = Fraction(1,2)\n",
      "y = Fraction(2,3)\n",
      "print(x+y)\n",
      "print(x == y)"
     ],
     "language": "python",
     "metadata": {},
     "outputs": [
      {
       "output_type": "stream",
       "stream": "stdout",
       "text": [
        "7/6\n",
        "False\n"
       ]
      }
     ],
     "prompt_number": 32
    },
    {
     "cell_type": "code",
     "collapsed": false,
     "input": [
      "%matplotlib inline"
     ],
     "language": "python",
     "metadata": {},
     "outputs": [
      {
       "output_type": "stream",
       "stream": "stderr",
       "text": [
        "ERROR: Line magic function `%matplotlib` not found."
       ]
      }
     ],
     "prompt_number": 1
    },
    {
     "cell_type": "code",
     "collapsed": false,
     "input": [
      "import IPython\n",
      "print IPython.sys_info()"
     ],
     "language": "python",
     "metadata": {},
     "outputs": [
      {
       "output_type": "stream",
       "stream": "stdout",
       "text": [
        "{'commit_hash': '<not found>',\n",
        " 'commit_source': '(none found)',\n",
        " 'default_encoding': 'UTF-8',\n",
        " 'ipython_path': '/usr/lib/python2.7/dist-packages/IPython',\n",
        " 'ipython_version': '0.13.2',\n",
        " 'os_name': 'posix',\n",
        " 'platform': 'Linux-3.8.0-35-generic-x86_64-with-Ubuntu-13.04-raring',\n",
        " 'sys_executable': '/usr/bin/python',\n",
        " 'sys_platform': 'linux2',\n",
        " 'sys_version': '2.7.4 (default, Sep 26 2013, 03:20:26) \\n[GCC 4.7.3]'}\n"
       ]
      }
     ],
     "prompt_number": 2
    }
   ],
   "metadata": {}
  }
 ]
}