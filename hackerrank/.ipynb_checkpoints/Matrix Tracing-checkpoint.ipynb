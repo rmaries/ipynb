{
 "metadata": {
  "name": ""
 },
 "nbformat": 3,
 "nbformat_minor": 0,
 "worksheets": [
  {
   "cells": [
    {
     "cell_type": "raw",
     "metadata": {},
     "source": [
      "Given below is a words from the English dictionary arranged as a matrix\n",
      "\n",
      "MATHE\n",
      "ATHEM\n",
      "THEMA\n",
      "HEMAT\n",
      "EMATI\n",
      "MATIC\n",
      "ATICS\n",
      "\n",
      "Tracing the matrix is starting from the top left position and at each step move either RIGHT or DOWN, to reach the bottom right of the matrix. It is assured that any such tracing generates the same word. How many such tracings can be possible for a given word of length m+n-1 written as a matrix of size m * n?\n",
      "\n",
      "Input Format\n",
      "The first line of input contains an integer T. T test cases follow in each line.\n",
      "Each line contains 2 space separated integers m & n indicating that the matrix written has m rows and each row has n characters.\n",
      "\n",
      "Constraints\n",
      "1 <= T <= 103\n",
      "1 \u2264 m,n \u2264 106\n",
      "\n",
      "Output Format\n",
      "Print the number of ways (S) the word can be traced as explained in the problem statement. If the number is larger than 10^9+7,\n",
      "print S mod (10^9 + 7)\n",
      "\n",
      "Sample Input\n",
      "\n",
      "1\n",
      "2 3\n",
      "\n",
      "Sample Output\n",
      "\n",
      "3\n",
      "\n",
      "Explanation\n",
      "Let us consider a word AWAY written as the matrix\n",
      "\n",
      "AWA\n",
      "WAY\n",
      "\n",
      "Here, the word AWAY in the matrix can be traced in 3 different ways, traversing either traversing either RIGHT or DOWN.\n",
      "\n",
      "AWA\n",
      "  Y\n",
      "\n",
      "AW\n",
      " AY\n",
      "\n",
      "A\n",
      "WAY\n",
      "\n",
      "Hence the answer 3.\n",
      "\n",
      "Timelimits Timelimits for this challenge is given here"
     ]
    }
   ],
   "metadata": {}
  }
 ]
}