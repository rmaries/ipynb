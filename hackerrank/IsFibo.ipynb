{
 "metadata": {
  "name": ""
 },
 "nbformat": 3,
 "nbformat_minor": 0,
 "worksheets": [
  {
   "cells": [
    {
     "cell_type": "raw",
     "metadata": {},
     "source": [
      "Problem\n",
      "\n",
      "\n",
      "\n",
      "You are given an integer N, can you check if the number is an element of fibonacci series? The first few elements of fibonacci series are 0,1,1,2,3,5,8,13\u2026. A fibonacci series is one where every element is a sum of the previous two elements in the series. The first two elements are 0 and 1.\n",
      "\n",
      "Formally:\n",
      "\n",
      "fib0 = 0\n",
      "fib1 = 1\n",
      "fibn = fibn-1 + fibn-2 \u2200 n > 1\n",
      "\n",
      "Input Format\n",
      "First line contains T, number of test cases.\n",
      "T lines follows. Each line will contain an integer N.\n",
      "\n",
      "Output Format\n",
      "Output \u201cIsFibo\u201d (without quotes) if N is a fibonacci number and \u201cIsNotFibo\u201d (without quotes) if it is not a fibonacci number, in a new line corresponding to each test case.\n",
      "\n",
      "Constraints\n",
      "1 <= T <= 105\n",
      "1 <= N <= 1010\n",
      "\n",
      "Sample Input\n",
      "\n",
      "3\n",
      "5\n",
      "7\n",
      "8\n",
      "\n",
      "Sample Output\n",
      "\n",
      "IsFibo\n",
      "IsNotFibo\n",
      "IsFibo\n",
      "\n",
      "Explanation\n",
      "5 is a Fibonacci number given by fib5 = 3 + 2\n",
      "7 is not a Fibonacci number\n",
      "8 is a Fibonacci number given by fib6 = 5 + 3\n",
      "\n",
      "TimeLimits Timelimits for this challenge is given here"
     ]
    },
    {
     "cell_type": "code",
     "collapsed": false,
     "input": [
      "fib_memo = {0:0,1:1}\n",
      "def fib(n):    \n",
      "    if n == 0:\n",
      "        return 0\n",
      "    elif n == 1:\n",
      "        return 1\n",
      "    elif not n in fib_memo:\n",
      "        fib_memo[n] = (fib(n-1) + fib(n-2))\n",
      "    return fib_memo[n]\n",
      "fib(52)\n",
      "k = input()\n",
      "for i in range(int(k)):\n",
      "    n = input()\n",
      "    if n in fib_memo.values():\n",
      "        print \"IsFibo\"\n",
      "    else:\n",
      "        print \"IsNotFibo\"\n",
      "        "
     ],
     "language": "python",
     "metadata": {},
     "outputs": [
      {
       "name": "stdout",
       "output_type": "stream",
       "stream": "stdout",
       "text": [
        "2\n"
       ]
      },
      {
       "name": "stdout",
       "output_type": "stream",
       "stream": "stdout",
       "text": [
        "13\n"
       ]
      },
      {
       "output_type": "stream",
       "stream": "stdout",
       "text": [
        "IsFibo\n"
       ]
      },
      {
       "name": "stdout",
       "output_type": "stream",
       "stream": "stdout",
       "text": [
        "25\n"
       ]
      },
      {
       "output_type": "stream",
       "stream": "stdout",
       "text": [
        "IsNotFibo\n"
       ]
      }
     ],
     "prompt_number": 39
    }
   ],
   "metadata": {}
  }
 ]
}