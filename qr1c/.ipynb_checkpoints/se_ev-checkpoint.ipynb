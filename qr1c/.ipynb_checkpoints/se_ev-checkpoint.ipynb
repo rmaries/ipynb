{
 "cells": [
  {
   "cell_type": "code",
   "execution_count": 17,
   "metadata": {
    "collapsed": false
   },
   "outputs": [],
   "source": [
    "def senate_evacuation(mem_list):\n",
    "    eva_list = []\n",
    "    let_dict = {1:'A',2:'B',3:'C',4:'D',5:'E',6:'F',7:'G',8:'H',9:'I',10:'J',11:'K',12:'L',13:'M',14:'N',15:'O',16:'P',17:'Q',18:'R',19:'S',20:'T',21:'U',22:'V',23:'W',24:'X',25:'Y',26:'Z'}\n",
    "    while any(mem_list):\n",
    "        big_element = max(mem_list)\n",
    "        big_pos = mem_list.index(big_element)\n",
    "        senator_party = let_dict[big_pos+1]\n",
    "        mem_list[big_pos] -= 1\n",
    "        #print(mem_list)\n",
    "        #if sum(mem_list)/2 < max(mem_list):\n",
    "        next_big_element = max(mem_list)\n",
    "        next_big_pos = mem_list.index(next_big_element)\n",
    "        senator_party += let_dict[next_big_pos+1]\n",
    "        mem_list[next_big_pos] -= 1\n",
    "        if sum(mem_list)/2 > max(mem_list):\n",
    "            mem_list[next_big_pos] += 1\n",
    "            senator_party = senator_party[0]                \n",
    "            #print(mem_list)\n",
    "        eva_list.append(senator_party)\n",
    "    return \" \".join(eva_list)"
   ]
  },
  {
   "cell_type": "code",
   "execution_count": 18,
   "metadata": {
    "collapsed": false
   },
   "outputs": [
    {
     "name": "stdout",
     "output_type": "stream",
     "text": [
      "BA BA BC\n",
      "CA BC\n",
      "A AB CA BC\n",
      "AB AB\n"
     ]
    }
   ],
   "source": [
    "print(senate_evacuation([2,3,1]))\n",
    "print(senate_evacuation([1,1,2]))\n",
    "print(senate_evacuation([3,2,2]))\n",
    "print(senate_evacuation([2,2]))"
   ]
  },
  {
   "cell_type": "raw",
   "metadata": {},
   "source": [
    "Input \n",
    " \t\n",
    "Output \n",
    " \n",
    "422\n",
    "2\n",
    "2 2\n",
    "3\n",
    "3 2 2\n",
    "3\n",
    "1 1 2\n",
    "3\n",
    "2 3 1\n",
    "\n",
    "Case #1: AB BA\n",
    "Case #2: AA BC C BA\n",
    "Case #3: C C AB\n",
    "Case #4: BA BB CA\n"
   ]
  },
  {
   "cell_type": "code",
   "execution_count": 16,
   "metadata": {
    "collapsed": false
   },
   "outputs": [
    {
     "name": "stdout",
     "output_type": "stream",
     "text": [
      "[1, 1, 3]\n"
     ]
    }
   ],
   "source": [
    "a = [1,2,3]\n",
    "a[1] = a[1]-1\n",
    "print(a)"
   ]
  },
  {
   "cell_type": "code",
   "execution_count": 3,
   "metadata": {
    "collapsed": false
   },
   "outputs": [
    {
     "name": "stdout",
     "output_type": "stream",
     "text": [
      "14\n"
     ]
    }
   ],
   "source": [
    "print(sum([2,2,5,5]))"
   ]
  }
 ],
 "metadata": {
  "kernelspec": {
   "display_name": "Python 3",
   "language": "python",
   "name": "python3"
  },
  "language_info": {
   "codemirror_mode": {
    "name": "ipython",
    "version": 3
   },
   "file_extension": ".py",
   "mimetype": "text/x-python",
   "name": "python",
   "nbconvert_exporter": "python",
   "pygments_lexer": "ipython3",
   "version": "3.5.1"
  }
 },
 "nbformat": 4,
 "nbformat_minor": 0
}
