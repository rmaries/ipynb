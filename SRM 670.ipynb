{
 "cells": [
  {
   "cell_type": "raw",
   "metadata": {},
   "source": [
    "Problem Statement\n",
    "    \n",
    "Two players are playing a cooperative game.\n",
    "At the beginning of the game each player has some cards. There is a positive integer written on each card.\n",
    "The game is played as follows:\n",
    "Each player chooses one of their cards.\n",
    "At the same time, each player gives the chosen card to the other player.\n",
    "Each player computes the sum of the numbers on the cards they now have.\n",
    "The final outcome of the game is the product of the two sums the players computed in the previous step.\n",
    "You are given the tuple (integer)s a and b. The elements of a are the numbers on the first player's cards at the beginning of the game. The elements of b are the numbers on the second player's cards.\n",
    "Compute and return the number of different outcomes the game may have.\n",
    "Definition\n",
    "    \n",
    "Class:\n",
    "Cdgame\n",
    "Method:\n",
    "rescount\n",
    "Parameters:\n",
    "tuple (integer), tuple (integer)\n",
    "Returns:\n",
    "integer\n",
    "Method signature:\n",
    "def rescount(self, a, b):\n",
    "\n",
    "Limits\n",
    "    \n",
    "Time limit (s):\n",
    "2.000\n",
    "Memory limit (MB):\n",
    "256\n",
    "Stack limit (MB):\n",
    "256\n",
    "Constraints\n",
    "-\n",
    "A and B will contain between 1 and 50 elements, inclusive.\n",
    "-\n",
    "A and B will contain the same number of elements.\n",
    "-\n",
    "Each element in A and B will be between 1 and 100, inclusive.\n",
    "Examples\n",
    "0)\n",
    "\n",
    "    \n",
    "{1,2}\n",
    "{3,4}\n",
    "Returns: 2\n",
    "This game can be played in four possible ways. One of them looks as follows:\n",
    "The first player chooses the card with the number 1. At the same time, the second player chooses the card with the number 3.\n",
    "Each player gives the chosen card to the other player. After the exchange the first player has the cards with numbers 2 and 3, and the second player has the cards with numbers 1 and 4.\n",
    "The first player computes that his sum is 2+3 = 5. The second player computes that her sum is 1+4 = 5.\n",
    "The final outcome is the value 5*5 = 25.\n",
    "The other three ways correspond to the following outcomes: (2+4)*(1+3) = 6*4 = 24, (1+3)*(2+4) = 4*6 = 24, and (1+4)*(2+3) = 5*5 = 25. Hence, only two different outcomes are possible: 24 and 25. Thus, the correct return value is 2.\n",
    "1)\n",
    "\n",
    "    \n",
    "{1,2,4}\n",
    "{8,16,32}\n",
    "Returns: 9\n",
    "With three cards in each player's hand there are 9 ways to play the game. In this case each of those ways leads to a different outcome.\n",
    "2)\n",
    "\n",
    "    \n",
    "{1,1,1}\n",
    "{1,1,1}\n",
    "Returns: 1\n",
    "Again, there are 9 ways to play the game, but obviously in this case the outcome will always be the same.\n",
    "3)\n",
    "\n",
    "    \n",
    "{1,2,3}\n",
    "{5,5,5}\n",
    "Returns: 3\n",
    "\n",
    "4)\n",
    "\n",
    "    \n",
    "{3,3,4,1}\n",
    "{2,2,2,100}\n",
    "Returns: 4\n",
    "\n",
    "5)\n",
    "\n",
    "    \n",
    "{31,34,55,56,57}_\n",
    "{1,2,3,4,5}\n",
    "Returns: 15\n",
    "\n",
    "This problem statement is the exclusive and proprietary property of TopCoder, Inc. Any unauthorized use or reproduction of this information without the prior written consent of TopCoder, Inc. is strictly prohibited. (c)2003, TopCoder, Inc. All rights reserved."
   ]
  },
  {
   "cell_type": "code",
   "execution_count": 9,
   "metadata": {
    "collapsed": true
   },
   "outputs": [],
   "source": [
    "class Cdgame:\n",
    "    def rescount(self, a, b):\n",
    "        pro_list = []\n",
    "        for i in range(len(a)):\n",
    "            for j in range(len(b)):\n",
    "                a_sum = sum(a)-a[i]+b[j]\n",
    "                b_sum = sum(b)+a[i]-b[j]\n",
    "                product = a_sum * b_sum\n",
    "                if product not in pro_list:\n",
    "                    pro_list.append(product)\n",
    "        return len(pro_list)"
   ]
  },
  {
   "cell_type": "code",
   "execution_count": 10,
   "metadata": {
    "collapsed": false
   },
   "outputs": [
    {
     "name": "stdout",
     "output_type": "stream",
     "text": [
      "15\n"
     ]
    }
   ],
   "source": [
    "a = Cdgame()\n",
    "print a.rescount((31,34,55,56,57),(1,2,3,4,5))"
   ]
  },
  {
   "cell_type": "raw",
   "metadata": {},
   "source": [
    "\n",
    "Problem Statement\n",
    "    \n",
    "A plus/minus string is a string in which each character is either a '+' or a '-'.\n",
    "The balance of a plus/minus string is computed as the number of '+' characters minus the number of '-' characters.\n",
    "For example, the balance of the string \"++-+\" is 3-1 = 2, and the balance of the string \"---\" is 0-3 = -3.\n",
    "The prefix of a string S is any string that can be obtained by removing some (possibly none, possibly all) characters from the end of S. For example, the prefixes of the string \"++-+\" are the strings \"++-+\", \"++-\", \"++\", \"+\", and \"\".\n",
    "Given a plus/minus string, its negativity is the number of its prefixes that have a negative balance. For example, the negativity of the string \"++-+\" is 0, as none of its prefixes have a negative balance. The negativity of the string \"---\" is 3. Its three prefixes with a negative balance are \"-\", \"--\", and \"---\".\n",
    "You are given a string s that is a plus/minus string. You are also given an integer k. Your goal is to change s into a string with negativity at most k. In other words, you want to change s into a string that has at most k prefixes that have a negative balance.\n",
    "In order to change s you are going to perform a sequence of zero or more steps. In each step you can change a single '-' character in s into a '+' or vice versa. Compute and return the smallest number of steps needed.\n",
    "Definition\n",
    "    \n",
    "Class:\n",
    "Drbalance\n",
    "Method:\n",
    "lesscng\n",
    "Parameters:\n",
    "string, integer\n",
    "Returns:\n",
    "integer\n",
    "Method signature:\n",
    "def lesscng(self, s, k):\n",
    "\n",
    "Limits\n",
    "    \n",
    "Time limit (s):\n",
    "2.000\n",
    "Memory limit (MB):\n",
    "256\n",
    "Stack limit (MB):\n",
    "256\n",
    "Constraints\n",
    "-\n",
    "s will contain between 1 and 50 characters, inclusive.\n",
    "-\n",
    "k will be between 0 and the length of s, inclusive.\n",
    "-\n",
    "Each character in s will be either '+' or '-'.\n",
    "Examples\n",
    "0)\n",
    "\n",
    "    \n",
    "\"---\"\n",
    "1\n",
    "Returns: 1\n",
    "One step is sufficient. If we change character 0 of s into a '+', we will obtain the string \"+--\". This string has only one prefix with a negative balance - namely, the entire string \"+--\". As k=1, we have reached our goal.\n",
    "1)\n",
    "\n",
    "    \n",
    "\"+-+-\"\n",
    "0\n",
    "Returns: 0\n",
    "\n",
    "2)\n",
    "\n",
    "    \n",
    "\"-+-+---\"\n",
    "2\n",
    "Returns: 1\n",
    "\n",
    "3)\n",
    "\n",
    "    \n",
    "\"-------++\"\n",
    "3\n",
    "Returns: 3\n",
    "\n",
    "4)\n",
    "\n",
    "    \n",
    "\"-+--+--+--++++----+\"\n",
    "3\n",
    "Returns: 2\n",
    "\n",
    "This problem statement is the exclusive and proprietary property of TopCoder, Inc. Any unauthorized use or reproduction of this information without the prior written consent of TopCoder, Inc. is strictly prohibited. (c)2003, TopCoder, Inc. All rights reserved."
   ]
  },
  {
   "cell_type": "code",
   "execution_count": 29,
   "metadata": {
    "collapsed": true
   },
   "outputs": [],
   "source": [
    "class Drbalance:\n",
    "    def lesscng(self, s, k):\n",
    "        self.s = s\n",
    "        self.k = k\n",
    "        return len(s)\n",
    "    def balance(self):\n",
    "        return (self.s).count('+')-(self.s).count('-')"
   ]
  },
  {
   "cell_type": "code",
   "execution_count": 30,
   "metadata": {
    "collapsed": false
   },
   "outputs": [
    {
     "name": "stdout",
     "output_type": "stream",
     "text": [
      "5\n",
      "+++--\n"
     ]
    }
   ],
   "source": [
    "s = Drbalance()\n",
    "s.lesscng('+++--',2)\n",
    "s.balance()"
   ]
  }
 ],
 "metadata": {
  "kernelspec": {
   "display_name": "Python 3",
   "language": "python",
   "name": "python3"
  },
  "language_info": {
   "codemirror_mode": {
    "name": "ipython",
    "version": 3
   },
   "file_extension": ".py",
   "mimetype": "text/x-python",
   "name": "python",
   "nbconvert_exporter": "python",
   "pygments_lexer": "ipython3",
   "version": "3.5.2"
  }
 },
 "nbformat": 4,
 "nbformat_minor": 0
}
