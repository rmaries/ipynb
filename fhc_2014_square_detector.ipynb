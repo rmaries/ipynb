{
 "metadata": {
  "name": ""
 },
 "nbformat": 3,
 "nbformat_minor": 0,
 "worksheets": [
  {
   "cells": [
    {
     "cell_type": "raw",
     "metadata": {},
     "source": [
      "Square Detector20 points\n",
      "\n",
      "You want to write an image detection system that is able to recognize different geometric shapes. In the first version of the system you settled with just being able to detect filled squares on a grid.\n",
      "\n",
      "You are given a grid of N\u00d7N square cells. Each cell is either white or black. Your task is to detect whether all the black cells form a square shape.\n",
      "Input\n",
      "\n",
      "The first line of the input consists of a single number T, the number of test cases.\n",
      "\n",
      "Each test case starts with a line containing a single integer N. Each of the subsequent N lines contain N characters. Each character is either \".\" symbolizing a white cell, or \"#\" symbolizing a black cell. Every test case contains at least one black cell.\n",
      "Output\n",
      "\n",
      "For each test case i numbered from 1 to T, output \"Case #i: \", followed by YES or NO depending on whether or not all the black cells form a completely filled square with edges parallel to the grid of cells.\n",
      "Constraints\n",
      "\n",
      "1 \u2264 T \u2264 20\n",
      "1 \u2264 N \u2264 20\n",
      "Example\n",
      "\n",
      "Test cases 1 and 5 represent valid squares. Case 2 has an extra cell that is outside of the square. Case 3 shows a square not filled inside. And case 4 is a rectangle but not a square.\n",
      "\n",
      "Example input \u00b7                                                                    Example output \u00b7 \n",
      "\n",
      "5                                                                                      Case #1: YES\n",
      "4                                                                                      Case #2: NO\n",
      "..##                                                                                   Case #3: NO\n",
      "..##                                                                                   Case #4: NO\n",
      "....                                                                                   Case #5: YES\n",
      "....\n",
      "4\n",
      "..##\n",
      "..##\n",
      "#...\n",
      "....\n",
      "4\n",
      "####\n",
      "#..#\n",
      "#..#\n",
      "####\n",
      "5\n",
      "#####\n",
      "#####\n",
      "#####\n",
      "#####\n",
      ".....\n",
      "5\n",
      "#####\n",
      "#####\n",
      "#####\n",
      "#####\n",
      "#####"
     ]
    },
    {
     "cell_type": "code",
     "collapsed": false,
     "input": [
      "b = []\n",
      "f = open('square_detector_example_input.txt','r')\n",
      "line = f.readlines()\n",
      "print(len(line))\n",
      "T = (int(line[0].strip()))\n",
      "print(T)\n",
      "i = 1\n",
      "line_no = 1\n",
      "while i <= T:\n",
      "    a = []\n",
      "    for ti in range(line_no + 1, (line_no + int(line[line_no]) + 1)):\n",
      "        a.append(line[ti].strip())\n",
      "    b.append(a)\n",
      "    line_no += (int(line[line_no]) + 1)\n",
      "    i += 1\n",
      "print(b)\n",
      "print(len(b))\n",
      "x = []\n",
      "h_count = []\n",
      "y_lis = []\n",
      "for y,si in enumerate(b[3]):\n",
      "    if si.count('#') != 0:\n",
      "        x.append(si.find('#'))\n",
      "        h_count.append(si.count('#'))\n",
      "        y_lis.append(y)\n",
      "        print y_lis,x,h_count"
     ],
     "language": "python",
     "metadata": {},
     "outputs": [
      {
       "output_type": "stream",
       "stream": "stdout",
       "text": [
        "28\n",
        "5\n",
        "[['..##', '..##', '....', '....'], ['..##', '..##', '#...', '....'], ['####', '#..#', '#..#', '####'], ['#####', '#####', '#####', '#####', '.....'], ['#####', '#####', '#####', '#####', '#####']]\n",
        "5\n",
        "[0] [0] [5]\n",
        "[0, 1] [0, 0] [5, 5]\n",
        "[0, 1, 2] [0, 0, 0] [5, 5, 5]\n",
        "[0, 1, 2, 3] [0, 0, 0, 0] [5, 5, 5, 5]\n"
       ]
      }
     ],
     "prompt_number": 6
    }
   ],
   "metadata": {}
  }
 ]
}