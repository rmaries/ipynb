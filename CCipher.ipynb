{
 "cells": [
  {
   "cell_type": "code",
   "execution_count": 2,
   "metadata": {
    "collapsed": false
   },
   "outputs": [
    {
     "name": "stdout",
     "output_type": "stream",
     "text": [
      "a2\n"
     ]
    }
   ],
   "source": [
    "print \"a\"+\"2\""
   ]
  },
  {
   "cell_type": "code",
   "execution_count": 19,
   "metadata": {
    "collapsed": false
   },
   "outputs": [
    {
     "name": "stdout",
     "output_type": "stream",
     "text": [
      "ABCD\n",
      "2\n",
      "YZAB\n"
     ]
    }
   ],
   "source": [
    "alphabet = \"ABCDEFGHIJKLMNOPQRSTUVWXYZ\"\n",
    "given_string = raw_input()\n",
    "cipher = int(raw_input())\n",
    "output_string = \"\"\n",
    "for i in given_string:\n",
    "    temp = alphabet.find(i)\n",
    "    #print temp, alphabet[temp-cipher]\n",
    "    if temp-cipher < 0:\n",
    "        output_string+=alphabet[temp-cipher+26]\n",
    "    else:\n",
    "        output_string+=alphabet[temp-cipher]\n",
    "print output_string"
   ]
  },
  {
   "cell_type": "code",
   "execution_count": null,
   "metadata": {
    "collapsed": true
   },
   "outputs": [],
   "source": [
    "class ccipher(object):\n",
    "    alphabet = \"ABCDEFGHIJKLMNOPQRSTUVWXYZ\"\n",
    "    def __init__(self, ciper, shift):\n",
    "        ccipher.ciper = ciper\n",
    "        ccipher.shift = shift\n",
    "    def decode(self):\n",
    "        alphabet = \"ABCDEFGHIJKLMNOPQRSTUVWXYZ\"\n",
    "        output_string = \"\"\n",
    "        for i in ccipher.ciper:\n",
    "            temp = alphabet.fine(i)\n",
    "            if temp-"
   ]
  }
 ],
 "metadata": {
  "kernelspec": {
   "display_name": "Python 2",
   "language": "python",
   "name": "python2"
  },
  "language_info": {
   "codemirror_mode": {
    "name": "ipython",
    "version": 2
   },
   "file_extension": ".py",
   "mimetype": "text/x-python",
   "name": "python",
   "nbconvert_exporter": "python",
   "pygments_lexer": "ipython2",
   "version": "2.7.9"
  }
 },
 "nbformat": 4,
 "nbformat_minor": 0
}
