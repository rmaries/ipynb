{
 "cells": [
  {
   "cell_type": "raw",
   "metadata": {},
   "source": [
    "\n",
    "Problem Statement\n",
    "    \n",
    "Let's say you have a binary string such as the following:\n",
    "011100011\n",
    "One way to encrypt this string is to add to each digit the sum of its adjacent digits. For example, the above string would become:\n",
    "123210122\n",
    "In particular, if P is the original string, and Q is the encrypted string, then Q[i] = P[i-1] + P[i] + P[i+1] for all digit positions i. Characters off the left and right edges of the string are treated as zeroes.\n",
    "An encrypted string given to you in this format can be decoded as follows (using 123210122 as an example):\n",
    "Assume P[0] = 0.\n",
    "Because Q[0] = P[0] + P[1] = 0 + P[1] = 1, we know that P[1] = 1.\n",
    "Because Q[1] = P[0] + P[1] + P[2] = 0 + 1 + P[2] = 2, we know that P[2] = 1.\n",
    "Because Q[2] = P[1] + P[2] + P[3] = 1 + 1 + P[3] = 3, we know that P[3] = 1.\n",
    "Repeating these steps gives us P[4] = 0, P[5] = 0, P[6] = 0, P[7] = 1, and P[8] = 1.\n",
    "We check our work by noting that Q[8] = P[7] + P[8] = 1 + 1 = 2. Since this equation works out, we are finished, and we have recovered one possible original string.\n",
    "Now we repeat the process, assuming the opposite about P[0]:\n",
    "Assume P[0] = 1.\n",
    "Because Q[0] = P[0] + P[1] = 1 + P[1] = 1, we know that P[1] = 0.\n",
    "Because Q[1] = P[0] + P[1] + P[2] = 1 + 0 + P[2] = 2, we know that P[2] = 1.\n",
    "Now note that Q[2] = P[1] + P[2] + P[3] = 0 + 1 + P[3] = 3, which leads us to the conclusion that P[3] = 2. However, this violates the fact that each character in the original string must be '0' or '1'. Therefore, there exists no such original string P where the first digit is '1'.\n",
    "Note that this algorithm produces at most two decodings for any given encrypted string. There can never be more than one possible way to decode a string once the first binary digit is set.\n",
    "Given a string message, containing the encrypted string, return a tuple (string) with exactly two elements. The first element should contain the decrypted string assuming the first character is '0'; the second element should assume the first character is '1'. If one of the tests fails, return the string \"NONE\" in its place. For the above example, you should return {\"011100011\", \"NONE\"}.\n",
    "Definition\n",
    "    \n",
    "Class: BinaryCode\n",
    "Method: decode\n",
    "Parameters: string\n",
    "Returns: tuple (string)\n",
    "Method signature: def decode(self, message):\n",
    "\n",
    "Limits\n",
    "    \n",
    "Time limit (s): 2.000\n",
    "Memory limit (MB): 64\n",
    "\n",
    "Constraints\n",
    "-\n",
    "message will contain between 1 and 50 characters, inclusive.\n",
    "-\n",
    "Each character in message will be either '0', '1', '2', or '3'.\n",
    "Examples\n",
    "0)\n",
    "\n",
    "    \n",
    "\"123210122\"\n",
    "Returns: { \"011100011\",  \"NONE\" }\n",
    "The example from above.\n",
    "1)\n",
    "\n",
    "    \n",
    "\"11\"\n",
    "Returns: { \"01\",  \"10\" }\n",
    "We know that one of the digits must be '1', and the other must be '0'. We return both cases.\n",
    "\n",
    "\n",
    "2)\n",
    "\n",
    "    \n",
    "\"22111\"\n",
    "Returns: { \"NONE\",  \"11001\" }\n",
    "Since the first digit of the encrypted string is '2', the first two digits of the original string must be '1'. Our test fails when we try to assume that P[0] = 0.\n",
    "3)\n",
    "\n",
    "    \n",
    "\"123210120\"\n",
    "Returns: { \"NONE\",  \"NONE\" }\n",
    "This is the same as the first example, but the rightmost digit has been changed to something inconsistent with the rest of the original string. No solutions are possible.\n",
    "4)\n",
    "\n",
    "    \n",
    "\"3\"\n",
    "Returns: { \"NONE\",  \"NONE\" }\n",
    "\n",
    "5)\n",
    "\n",
    "    \n",
    "\"12221112222221112221111111112221111\"\n",
    "Returns: \n",
    "{ \"01101001101101001101001001001101001\",\n",
    "  \"10110010110110010110010010010110010\" }\n",
    "\n",
    "This problem statement is the exclusive and proprietary property of TopCoder, Inc. Any unauthorized use or reproduction of this information without the prior written consent of TopCoder, Inc. is strictly prohibited. (c)2003, TopCoder, Inc. All rights reserved."
   ]
  },
  {
   "cell_type": "code",
   "execution_count": 19,
   "metadata": {
    "collapsed": false
   },
   "outputs": [],
   "source": [
    "class BinaryCode:\n",
    "    def __init__(self, message = \"\"):\n",
    "        self.message = message\n",
    "    def decode(self, message):\n",
    "        num_list = [int(i) for i in self.message]\n",
    "        return num_list"
   ]
  },
  {
   "cell_type": "code",
   "execution_count": 20,
   "metadata": {
    "collapsed": false
   },
   "outputs": [
    {
     "name": "stdout",
     "output_type": "stream",
     "text": [
      "[]\n"
     ]
    }
   ],
   "source": [
    "p = BinaryCode()\n",
    "print p.decode(\"1234567\")"
   ]
  },
  {
   "cell_type": "code",
   "execution_count": null,
   "metadata": {
    "collapsed": true
   },
   "outputs": [],
   "source": []
  }
 ],
 "metadata": {
  "kernelspec": {
   "display_name": "Python 2",
   "language": "python",
   "name": "python2"
  },
  "language_info": {
   "codemirror_mode": {
    "name": "ipython",
    "version": 2
   },
   "file_extension": ".py",
   "mimetype": "text/x-python",
   "name": "python",
   "nbconvert_exporter": "python",
   "pygments_lexer": "ipython2",
   "version": "2.7.9"
  }
 },
 "nbformat": 4,
 "nbformat_minor": 0
}
