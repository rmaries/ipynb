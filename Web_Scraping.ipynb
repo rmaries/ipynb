{
  "nbformat": 4,
  "nbformat_minor": 0,
  "metadata": {
    "colab": {
      "name": "Web_Scraping.ipynb",
      "version": "0.3.2",
      "provenance": [],
      "include_colab_link": true
    },
    "kernelspec": {
      "name": "python3",
      "display_name": "Python 3"
    }
  },
  "cells": [
    {
      "cell_type": "markdown",
      "metadata": {
        "id": "view-in-github",
        "colab_type": "text"
      },
      "source": [
        "<a href=\"https://colab.research.google.com/github/rmaries/ipynb/blob/master/Web_Scraping.ipynb\" target=\"_parent\"><img src=\"https://colab.research.google.com/assets/colab-badge.svg\" alt=\"Open In Colab\"/></a>"
      ]
    },
    {
      "cell_type": "code",
      "metadata": {
        "id": "EXJ5W1R66Qvs",
        "colab_type": "code",
        "colab": {
          "base_uri": "https://localhost:8080/",
          "height": 289
        },
        "outputId": "35e9bb02-00ee-4235-f534-6294813fd075"
      },
      "source": [
        "import socket\n",
        "\n",
        "HOSTS = [\n",
        "    'apu',\n",
        "    'pymotw.com',\n",
        "    'www.python.org',\n",
        "    'nosuchname',\n",
        "]\n",
        "\n",
        "for host in HOSTS:\n",
        "    print(host)\n",
        "    try:\n",
        "        name, aliases, addresses = socket.gethostbyname_ex(host)\n",
        "        print('  Hostname:', name)\n",
        "        print('  Aliases :', aliases)\n",
        "        print(' Addresses:', addresses)\n",
        "    except socket.error as msg:\n",
        "        print('ERROR:', msg)\n",
        "    print()"
      ],
      "execution_count": 2,
      "outputs": [
        {
          "output_type": "stream",
          "text": [
            "apu\n",
            "ERROR: [Errno -2] Name or service not known\n",
            "\n",
            "pymotw.com\n",
            "  Hostname: pymotw.com\n",
            "  Aliases : []\n",
            " Addresses: ['66.33.211.242']\n",
            "\n",
            "www.python.org\n",
            "  Hostname: dualstack.python.map.fastly.net\n",
            "  Aliases : ['www.python.org']\n",
            " Addresses: ['151.101.0.223', '151.101.64.223', '151.101.128.223', '151.101.192.223']\n",
            "\n",
            "nosuchname\n",
            "ERROR: [Errno -2] Name or service not known\n",
            "\n"
          ],
          "name": "stdout"
        }
      ]
    }
  ]
}