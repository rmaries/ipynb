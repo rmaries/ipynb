{
 "metadata": {
  "name": "Cookie_Clicker_Alpha"
 },
 "nbformat": 3,
 "nbformat_minor": 0,
 "worksheets": [
  {
   "cells": [
    {
     "cell_type": "raw",
     "metadata": {},
     "source": [
      "Introduction\n",
      "\n",
      "Cookie Clicker is a Javascript game by Orteil, where players click on a picture of a giant cookie. Clicking on the giant cookie gives them cookies. They can spend those cookies to buy buildings. Those buildings help them get even more cookies. Like this problem, the game is very cookie-focused. This problem has a similar idea, but it does not assume you have played Cookie Clicker. Please don't go play it now: it might be a long time before you come back.\n",
      "Problem\n",
      "\n",
      "In this problem, you start with 0 cookies. You gain cookies at a rate of 2 cookies per second, by clicking on a giant cookie. Any time you have at least C cookies, you can buy a cookie farm. Every time you buy a cookie farm, it costs you C cookies and gives you an extra F cookies per second.\n",
      "\n",
      "Once you have X cookies that you haven't spent on farms, you win! Figure out how long it will take you to win if you use the best possible strategy.\n",
      "Example\n",
      "\n",
      "Suppose C=500.0, F=4.0 and X=2000.0. Here's how the best possible strategy plays out:\n",
      "\n",
      "    You start with 0 cookies, but producing 2 cookies per second.\n",
      "    After 250 seconds, you will have C=500 cookies and can buy a farm that produces F=4 cookies per second.\n",
      "    After buying the farm, you have 0 cookies, and your total cookie production is 6 cookies per second.\n",
      "    The next farm will cost 500 cookies, which you can buy after about 83.3333333 seconds.\n",
      "    After buying your second farm, you have 0 cookies, and your total cookie production is 10 cookies per second.\n",
      "    Another farm will cost 500 cookies, while you can buy after 50 seconds.\n",
      "    After buying your third farm, you have 0 cookies, and your total cookie production is 14 cookies per second.\n",
      "    Another farm would cost 500 cookies, but it actually makes sense not to buy it: instead you can just wait until you have X=2000 cookies, which takes about 142.8571429 seconds.\n",
      "\n",
      "Total time: 250 + 83.3333333 + 50 + 142.8571429 = 526.1904762 seconds.\n",
      "\n",
      "Notice that you get cookies continuously: so 0.1 seconds after the game starts you'll have 0.2 cookies, and \u03c0 seconds after the game starts you'll have 2\u03c0 cookies.\n",
      "Input\n",
      "\n",
      "The first line of the input gives the number of test cases, T. T lines follow. Each line contains three space-separated real-valued numbers: C, F and X, whose meanings are described earlier in the problem statement.\n",
      "\n",
      "C, F and X will each consist of at least 1 digit followed by 1 decimal point followed by from 1 to 5 digits. There will be no leading zeroes. \n"
     ]
    },
    {
     "cell_type": "code",
     "collapsed": false,
     "input": [
      "def cca(c,f,x):\n",
      "    nc_per_sec = 2.0\n",
      "    time_list = [(x/nc_per_sec)]\n",
      "    if x <= c:\n",
      "        return (x/nc_per_sec)\n",
      "    else:\n",
      "        first_cookie = c/nc_per_sec\n",
      "        nc_per_sec+=f\n",
      "        time_list.append(first_cookie+(x/nc_per_sec))\n",
      "        i = 0\n",
      "        while time_list[i+1] < time_list[i]:\n",
      "            temp_time = first_cookie\n",
      "            nc_per_sec = 2.0\n",
      "            for j in range(1,i+3):\n",
      "                if j != (i+2):\n",
      "                    temp_time += c/(nc_per_sec+(f*j))\n",
      "                else:\n",
      "                    temp_time += x/(nc_per_sec+(f*j))\n",
      "            time_list.append(temp_time)\n",
      "            i+=1\n",
      "        return time_list[i]\n",
      "f_in = open('b_example.in','r')\n",
      "f_out = open('qr_b_2014.out','w')\n",
      "input_dict = {}\n",
      "n=int((f_in.readline()).strip())\n",
      "for lineno, line in enumerate(f_in):\n",
      "    input_dict[lineno]=[float(i) for i in ((line.strip()).split())]\n",
      "for res in range(len(input_dict)):\n",
      "    s = cca(input_dict[res][0],input_dict[res][1],input_dict[res][2])\n",
      "    print 'Case #'+str(res+1)+': '+str(\"%.7f\"%s)\n",
      "    f_out.write('Case #'+str(res+1)+': '+str(\"%.7f\"%s)+'\\n')\n",
      "f_in.close()\n",
      "f_out.close()"
     ],
     "language": "python",
     "metadata": {},
     "outputs": [
      {
       "output_type": "stream",
       "stream": "stdout",
       "text": [
        "Case #1: 1.0000000\n",
        "Case #2: 39.1666667\n",
        "Case #3: 63.9680013\n",
        "Case #4: 526.1904762\n"
       ]
      }
     ],
     "prompt_number": 30
    },
    {
     "cell_type": "heading",
     "level": 1,
     "metadata": {},
     "source": [
      "Solved for small input"
     ]
    }
   ],
   "metadata": {}
  }
 ]
}