{
 "metadata": {
  "name": "2009_qr_c"
 },
 "nbformat": 3,
 "nbformat_minor": 0,
 "worksheets": [
  {
   "cells": [
    {
     "cell_type": "heading",
     "level": 1,
     "metadata": {},
     "source": [
      "Welcome to Code Jam"
     ]
    },
    {
     "cell_type": "raw",
     "metadata": {},
     "source": [
      "Problem\n",
      "\n",
      "So you've registered. We sent you a welcoming email, to welcome you to code jam. But it's possible that you still don't feel welcomed to code jam. That's why we decided to name a problem \"welcome to code jam.\" After solving this problem, we hope that you'll feel very welcome. Very welcome, that is, to code jam.\n",
      "\n",
      "If you read the previous paragraph, you're probably wondering why it's there. But if you read it very carefully, you might notice that we have written the words \"welcome to code jam\" several times: 400263727 times in total. After all, it's easy to look through the paragraph and find a 'w'; then find an 'e' later in the paragraph; then find an 'l' after that, and so on. Your task is to write a program that can take any text and print out how many times that text contains the phrase \"welcome to code jam\".\n",
      "\n",
      "To be more precise, given a text string, you are to determine how many times the string \"welcome to code jam\" appears as a sub-sequence of that string. In other words, find a sequence s of increasing indices into the input string such that the concatenation of input[s[0]], input[s[1]], ..., input[s[18]] is the string \"welcome to code jam\".\n",
      "\n",
      "The result of your calculation might be huge, so for convenience we would only like you to find the last 4 digits.\n",
      "\n",
      "Input\n",
      "\n",
      "The first line of input gives the number of test cases, N. The next N lines of input contain one test case each. Each test case is a single line of text, containing only lower-case letters and spaces. No line will start with a space, and no line will end with a space.\n",
      "\n",
      "Output\n",
      "\n",
      "For each test case, \"Case #x: dddd\", where x is the case number, and dddd is the last four digits of the answer. If the answer has fewer than 4 digits, please add zeroes at the front of your answer to make it exactly 4 digits long.\n",
      "\n",
      "Limits\n",
      "1 \u2264 N \u2264 100\n",
      "\n",
      "Small dataset\n",
      "Each line will be no longer than 30 characters.\n",
      "\n",
      "Large dataset\n",
      "Each line will be no longer than 500 characters.\n",
      "\n",
      "Sample\n",
      "\n",
      "Input                                                            Output\n",
      " \n",
      "3\n",
      "elcomew elcome to code jam                                       Case #1: 0001\n",
      "wweellccoommee to code qps jam                                   Case #2: 0256\n",
      "welcome to codejam                                               Case #3: 0000"
     ]
    },
    {
     "cell_type": "code",
     "collapsed": false,
     "input": [
      "inpu=\"So you've registered. We sent you a welcoming email, to welcome you to code jam. But it's possible that you still don't feel welcomed to code jam. That's why we decided to name a problem \\\"welcome to code jam.\\\" After solving this problem, we hope that you'll feel very welcome. Very welcome, that is, to code jam\"\n",
      "input_lower=inpu.lower()\n",
      "slic_string = input_lower[input_lower.index('w'):input_lower.rindex('m')+1]\n",
      "print slic_string\n",
      "req_string=''\n",
      "s = 'welcome to code jam'\n",
      "for i in slic_string:\n",
      "    if i in s:\n",
      "        req_string += i\n",
      "print req_string\n",
      "print len(req_string)\n",
      "print re.search('(.*) welcome to code jam (.*?)',req_string).span()"
     ],
     "language": "python",
     "metadata": {},
     "outputs": [
      {
       "output_type": "stream",
       "stream": "stdout",
       "text": [
        "we sent you a welcoming email, to welcome you to code jam. but it's possible that you still don't feel welcomed to code jam. that's why we decided to name a problem \"welcome to code jam.\" after solving this problem, we hope that you'll feel very welcome. very welcome, that is, to code jam\n",
        "we et o a welcom emal to welcome o to code jam t t ole tat o tll dot eel welcomed to code jam tat w we decded to ame a olem welcome to code jam ate ol t olem we oe tat oll eel e welcome e welcome tat  to code jam\n",
        "212\n",
        "(0, 144)\n"
       ]
      }
     ],
     "prompt_number": 37
    },
    {
     "cell_type": "code",
     "collapsed": false,
     "input": [],
     "language": "python",
     "metadata": {},
     "outputs": [],
     "prompt_number": 17
    }
   ],
   "metadata": {}
  }
 ]
}