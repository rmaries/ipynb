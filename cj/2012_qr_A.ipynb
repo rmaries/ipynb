{
 "metadata": {
  "name": "2012_qr_A"
 },
 "nbformat": 3,
 "nbformat_minor": 0,
 "worksheets": [
  {
   "cells": [
    {
     "cell_type": "raw",
     "metadata": {},
     "source": [
      "Problem\n",
      "\n",
      "We have come up with the best possible language here at Google, called Googlerese. To translate text into Googlerese, we take any message and replace each English letter with another English letter. This mapping is one-to-one and onto, which means that the same input letter always gets replaced with the same output letter, and different input letters always get replaced with different output letters. A letter may be replaced by itself. Spaces are left as-is.\n",
      "\n",
      "For example (and here is a hint!), our awesome translation algorithm includes the following three mappings: 'a' -> 'y', 'o' -> 'e', and 'z' -> 'q'. This means that \"a zoo\" will become \"y qee\".\n",
      "\n",
      "Googlerese is based on the best possible replacement mapping, and we will never change it. It will always be the same. In every test case. We will not tell you the rest of our mapping because that would make the problem too easy, but there are a few examples below that may help.\n",
      "\n",
      "Given some text in Googlerese, can you translate it to back to normal text?\n",
      "Solving this problem\n",
      "\n",
      "Usually, Google Code Jam problems have 1 Small input and 1 Large input. This problem has only 1 Small input. Once you have solved the Small input, you have finished solving this problem.\n",
      "Input\n",
      "\n",
      "The first line of the input gives the number of test cases, T. T test cases follow, one per line.\n",
      "\n",
      "Each line consists of a string G in Googlerese, made up of one or more words containing the letters 'a' - 'z'. There will be exactly one space (' ') character between consecutive words and no spaces at the beginning or at the end of any line.\n",
      "Output\n",
      "\n",
      "For each test case, output one line containing \"Case #X: S\" where X is the case number and S is the string that becomes G in Googlerese.\n",
      "Limits\n",
      "\n",
      "1 \u2264 T \u2264 30.\n",
      "G contains at most 100 characters.\n",
      "None of the text is guaranteed to be valid English.\n",
      "Sample\n",
      "Input\n",
      "3\n",
      "ejp mysljylc kd kxveddknmc re jsicpdrysi\n",
      "rbcpc ypc rtcsra dkh wyfrepkym veddknkmkrkcd\n",
      "de kr kd eoya kw aej tysr re ujdr lkgc jv\n",
      "\n",
      "\n",
      "Output\n",
      "Case #1: our language is impossible to understand\n",
      "Case #2: there are twenty six factorial possibilities\n",
      "Case #3: so it is okay if you want to just give up"
     ]
    },
    {
     "cell_type": "code",
     "collapsed": false,
     "input": [
      "trans = {}\n",
      "o1 = \"our language is impossible to understand there are twenty six factorial possibilities so it is okay if you want to just give up\"\n",
      "i1 = \"ejp mysljylc kd kxveddknmc re jsicpdrysi rbcpc ypc rtcsra dkh wyfrepkym veddknkmkrkcd de kr kd eoya kw aej tysr re ujdr lkgc jv\"\n",
      "for index,ele in enumerate(i1):\n",
      "    if ele != ' ':\n",
      "        trans[ele] = o1[index]\n",
      "trans['z']='q'\n",
      "trans['q']='z'\n",
      "def translate(li):\n",
      "    res = ''\n",
      "    for i in li:\n",
      "        if i.isalpha():\n",
      "            res += trans[i]\n",
      "        else:\n",
      "            res += i\n",
      "    return res\n",
      "f_in=open('A-small-practice.in','r')\n",
      "f_out=open('A-small-practice.out','w')\n",
      "n=int((f_in.readline()).strip())\n",
      "for lineno, line in enumerate(f_in):\n",
      "    f_out.write('Case #'+str(lineno+1)+': '+translate(line.strip())+'\\n')\n",
      "    print 'Case #'+str(lineno+1)+': '+translate(line.strip())\n",
      "f_in.close()\n",
      "f_out.close()"
     ],
     "language": "python",
     "metadata": {},
     "outputs": [
      {
       "output_type": "stream",
       "stream": "stdout",
       "text": [
        "Case #1: our language is impossible to understand\n",
        "Case #2: there are twenty six factorial possibilities\n",
        "Case #3: so it is okay if you want to just give up\n",
        "Case #4: xoggk d yl wxo vkkvgo ekso uyl wonw sywy\n",
        "Case #5: xkf yto akj\n",
        "Case #6: yabba dabba yabba dabba yabba dabba yabba dabba yabba dabba yabba dabba yabba dabba yabba dooooooooo\n",
        "Case #7: a b c d e f g h i j k l m n o p q r s t u v y w x y z now i know my abcs\n",
        "Case #8: next time wont you sing with me\n",
        "Case #9: for those who speak in a tongue do not speak to other people\n",
        "Case #10: nobody understands them since they are speaking mysteries in the spirit\n",
        "Case #11: this is so exciting i have to go the bathroom\n",
        "Case #12: it was the best of times it was the blurst of times\n",
        "Case #13: let lips do what hands do\n",
        "Case #14: this here is gunpowder activated twenty seven caliber full auto no kickback nailthrowing mayhem\n",
        "Case #15: i have bested fruit spike and moon now i shall best you the guy\n",
        "Case #16: oh hai im in ur computer eating your cheezburgers and googleresing your textz\n",
        "Case #17: an eye for an eye and a pigeon for a pigeon\n",
        "Case #18: all your base are belong to error the spoony bard\n",
        "Case #19: you pissed off the chicken lady\n",
        "Case #20: now is the summer of our lack of discontent\n",
        "Case #21: by the pricking of my thumbs something wicked this way comes\n",
        "Case #22: in a world of direwolves and lions sometimes the rarest creature is a friend\n",
        "Case #23: greetings cheese popsicle the number you have dialed is currently out of porkchops\n",
        "Case #24: why do programmers always mix up halloween and christmas\n",
        "Case #25: im commander shepard and this is my favorite problem on the google code jam\n",
        "Case #26: f of two equals f of one equals one\n",
        "Case #27: for i between three and n f of i equals f of i minus one plus f of i minus two\n",
        "Case #28: how are you holding up because im a potato\n",
        "Case #29: dr zaius dr zaius dr zaius dr zaius ooooooooooooh dr zaius\n",
        "Case #30: whoooooooooooooooooooaaaaaaaaa i know c plus plus\n"
       ]
      }
     ],
     "prompt_number": 52
    }
   ],
   "metadata": {}
  }
 ]
}